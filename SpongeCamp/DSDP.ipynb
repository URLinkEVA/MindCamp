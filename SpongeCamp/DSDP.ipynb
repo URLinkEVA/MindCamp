{
 "cells": [
  {
   "cell_type": "code",
   "execution_count": 1,
   "id": "a800ef56-b2f9-407e-9fc1-e9a0e83b4ff7",
   "metadata": {},
   "outputs": [
    {
     "name": "stderr",
     "output_type": "stream",
     "text": [
      "INFO:root:Using MoXing-v2.1.0.5d9c87c8-5d9c87c8\n",
      "INFO:root:Using OBS-Python-SDK-3.20.9.1\n"
     ]
    }
   ],
   "source": [
    "import moxing as mox"
   ]
  },
  {
   "cell_type": "code",
   "execution_count": 2,
   "id": "dba3745c-33d6-4051-89c2-0e68f7d761f5",
   "metadata": {},
   "outputs": [
    {
     "name": "stdout",
     "output_type": "stream",
     "text": [
      "mkdir: cannot create directory ‘./dsdp/blind_docking’: No such file or directory\n"
     ]
    }
   ],
   "source": [
    "!mkdir ./dsdp/blind_docking"
   ]
  },
  {
   "cell_type": "code",
   "execution_count": 3,
   "id": "c6273867-4191-42f5-aa09-50e41754b13d",
   "metadata": {},
   "outputs": [
    {
     "name": "stdout",
     "output_type": "stream",
     "text": [
      "mkdir: cannot create directory ‘./dsdp/redocking’: No such file or directory\n"
     ]
    }
   ],
   "source": [
    "!mkdir ./dsdp/redocking"
   ]
  },
  {
   "cell_type": "code",
   "execution_count": 4,
   "id": "0c31fd51-600f-493f-a7d2-767091d31d21",
   "metadata": {},
   "outputs": [
    {
     "name": "stdout",
     "output_type": "stream",
     "text": [
      "mkdir: cannot create directory ‘./dsdp/examples’: No such file or directory\n"
     ]
    }
   ],
   "source": [
    "!mkdir ./dsdp/examples"
   ]
  },
  {
   "cell_type": "code",
   "execution_count": 5,
   "id": "ecd6ab31-e8db-4a39-877a-3e67ff42a09e",
   "metadata": {},
   "outputs": [],
   "source": [
    "mox.file.copy_parallel('obs://dsdp/blind_docking','./dsdp/blind_docking')"
   ]
  },
  {
   "cell_type": "code",
   "execution_count": 6,
   "id": "67dcef38-9d84-486a-b6fb-09e388c6b4bf",
   "metadata": {},
   "outputs": [],
   "source": [
    "mox.file.copy_parallel('obs://dsdp/redocking','./dsdp/redocking')"
   ]
  },
  {
   "cell_type": "code",
   "execution_count": 7,
   "id": "f1b3031f-8c25-4727-a59a-3b19a27970a2",
   "metadata": {},
   "outputs": [],
   "source": [
    "mox.file.copy_parallel('obs://dsdp/examples','./dsdp/examples')"
   ]
  },
  {
   "cell_type": "code",
   "execution_count": 8,
   "id": "b8431012-733d-4d8a-aa86-298f10905e77",
   "metadata": {},
   "outputs": [
    {
     "name": "stdout",
     "output_type": "stream",
     "text": [
      "nvcc -o main_SingleRun.o -c main_SingleRun.cu -arch=sm_60 -rdc=true -lcudadevrt -lcufft --use_fast_math -O4 -std=c++11 -lgomp\n",
      "nvcc -o common.o -c common.cu -arch=sm_60 -rdc=true -lcudadevrt -lcufft --use_fast_math -O4 -std=c++11 -lgomp\n",
      "common.cu(204): warning: missing return statement at end of non-void function \"Vina_Covalent_Radius\"\n",
      "\n",
      "common.cu(204): warning: missing return statement at end of non-void function \"Vina_Covalent_Radius\"\n",
      "\n",
      "nvcc -o Copy_pdbqt_Format.o -c Copy_pdbqt_Format.cu -arch=sm_60 -rdc=true -lcudadevrt -lcufft --use_fast_math -O4 -std=c++11 -lgomp\n",
      "nvcc -o DSDP_Sort.o -c DSDP_Sort.cu -arch=sm_60 -rdc=true -lcudadevrt -lcufft --use_fast_math -O4 -std=c++11 -lgomp\n",
      "nvcc -o DSDP_Task.o -c DSDP_Task.cu -arch=sm_60 -rdc=true -lcudadevrt -lcufft --use_fast_math -O4 -std=c++11 -lgomp\n",
      "nvcc -o Kernel.o -c Kernel.cu -arch=sm_60 -rdc=true -lcudadevrt -lcufft --use_fast_math -O4 -std=c++11 -lgomp\n",
      "Kernel.cu(962): warning: variable \"dd\" was declared but never referenced\n",
      "\n",
      "Kernel.cu(962): warning: variable \"dd_\" was declared but never referenced\n",
      "\n",
      "nvcc -o Neighbor_Grid.o -c Neighbor_Grid.cu -arch=sm_60 -rdc=true -lcudadevrt -lcufft --use_fast_math -O4 -std=c++11 -lgomp\n",
      "Neighbor_Grid.cu(35): warning: invalid narrowing conversion from \"float\" to \"int\"\n",
      "\n",
      "Neighbor_Grid.cu(35): warning: invalid narrowing conversion from \"float\" to \"int\"\n",
      "\n",
      "Neighbor_Grid.cu(35): warning: invalid narrowing conversion from \"float\" to \"int\"\n",
      "\n",
      "Neighbor_Grid.cu(35): warning: invalid narrowing conversion from \"float\" to \"int\"\n",
      "\n",
      "Neighbor_Grid.cu(35): warning: invalid narrowing conversion from \"float\" to \"int\"\n",
      "\n",
      "Neighbor_Grid.cu(35): warning: invalid narrowing conversion from \"float\" to \"int\"\n",
      "\n",
      "\u001b[01m\u001b[KNeighbor_Grid.cu:\u001b[m\u001b[K In member function ‘\u001b[01m\u001b[Kvoid NEIGHBOR_GRID::Put_Atom_Into_Grid_Bucket(int, VECTOR*)\u001b[m\u001b[K’:\n",
      "\u001b[01m\u001b[KNeighbor_Grid.cu:35:35:\u001b[m\u001b[K \u001b[01;35m\u001b[Kwarning: \u001b[m\u001b[Knarrowing conversion of ‘\u001b[01m\u001b[Ktempcrd.VECTOR::x\u001b[m\u001b[K’ from ‘\u001b[01m\u001b[Kfloat\u001b[m\u001b[K’ to ‘\u001b[01m\u001b[Kint\u001b[m\u001b[K’ inside { } [\u001b[01;35m\u001b[K-Wnarrowing\u001b[m\u001b[K]\n",
      "   INT_VECTOR temp_serial =\u001b[01;35m\u001b[K { tempcr\u001b[m\u001b[Kd.x,tempcrd.y,tempcrd.z };\n",
      "                           \u001b[01;35m\u001b[K~~~~~~~~^\u001b[m\u001b[K\n",
      "\u001b[01m\u001b[KNeighbor_Grid.cu:35:46:\u001b[m\u001b[K \u001b[01;35m\u001b[Kwarning: \u001b[m\u001b[Knarrowing conversion of ‘\u001b[01m\u001b[Ktempcrd.VECTOR::y\u001b[m\u001b[K’ from ‘\u001b[01m\u001b[Kfloat\u001b[m\u001b[K’ to ‘\u001b[01m\u001b[Kint\u001b[m\u001b[K’ inside { } [\u001b[01;35m\u001b[K-Wnarrowing\u001b[m\u001b[K]\n",
      "   INT_VECTOR temp_serial = { tempcrd.\u001b[01;35m\u001b[Kx,tempcrd\u001b[m\u001b[K.y,tempcrd.z };\n",
      "                                      \u001b[01;35m\u001b[K~~~~~~~~^\u001b[m\u001b[K\n",
      "\u001b[01m\u001b[KNeighbor_Grid.cu:35:57:\u001b[m\u001b[K \u001b[01;35m\u001b[Kwarning: \u001b[m\u001b[Knarrowing conversion of ‘\u001b[01m\u001b[Ktempcrd.VECTOR::z\u001b[m\u001b[K’ from ‘\u001b[01m\u001b[Kfloat\u001b[m\u001b[K’ to ‘\u001b[01m\u001b[Kint\u001b[m\u001b[K’ inside { } [\u001b[01;35m\u001b[K-Wnarrowing\u001b[m\u001b[K]\n",
      "   INT_VECTOR temp_serial = { tempcrd.x,tempcrd.y\u001b[01;35m\u001b[K,tempcrd.\u001b[m\u001b[Kz };\n",
      "                                                 \u001b[01;35m\u001b[K~~~~~~~~^\u001b[m\u001b[K\n",
      "nvcc -o Partial_Rigid_Small_Molecule.o -c Partial_Rigid_Small_Molecule.cu -arch=sm_60 -rdc=true -lcudadevrt -lcufft --use_fast_math -O4 -std=c++11 -lgomp\n",
      "Partial_Rigid_Small_Molecule.cu(49): warning: result of call is not used\n",
      "\n",
      "Partial_Rigid_Small_Molecule.cu(81): warning: result of call is not used\n",
      "\n",
      "Partial_Rigid_Small_Molecule.cu(49): warning: result of call is not used\n",
      "\n",
      "Partial_Rigid_Small_Molecule.cu(81): warning: result of call is not used\n",
      "\n",
      "\u001b[01m\u001b[KPartial_Rigid_Small_Molecule.cu:\u001b[m\u001b[K In member function ‘\u001b[01m\u001b[Kvoid PARTIAL_RIGID_SMALL_MOLECULE::Initial_From_PDBQT(const char*)\u001b[m\u001b[K’:\n",
      "\u001b[01m\u001b[KPartial_Rigid_Small_Molecule.cu:49:6:\u001b[m\u001b[K \u001b[01;35m\u001b[Kwarning: \u001b[m\u001b[Kignoring return value of ‘\u001b[01m\u001b[Kchar* fgets(char*, int, FILE*)\u001b[m\u001b[K’, declared with attribute warn_unused_result [\u001b[01;35m\u001b[K-Wunused-result\u001b[m\u001b[K]\n",
      " \u001b[01;35m\u001b[K    fgets(str_line, 256,\u001b[m\u001b[K in);\n",
      "     \u001b[01;35m\u001b[K~^~~~~~~~~~~~~~~~~~~\u001b[m\u001b[K\n",
      "\u001b[01m\u001b[KPartial_Rigid_Small_Molecule.cu:81:6:\u001b[m\u001b[K \u001b[01;35m\u001b[Kwarning: \u001b[m\u001b[Kignoring return value of ‘\u001b[01m\u001b[Kchar* fgets(char*, int, FILE*)\u001b[m\u001b[K’, declared with attribute warn_unused_result [\u001b[01;35m\u001b[K-Wunused-result\u001b[m\u001b[K]\n",
      " \u001b[01;35m\u001b[K    fgets(str_line, 256,\u001b[m\u001b[K in);\n",
      "     \u001b[01;35m\u001b[K~^~~~~~~~~~~~~~~~~~~\u001b[m\u001b[K\n",
      "nvcc -o Rigid_Protein.o -c Rigid_Protein.cu -arch=sm_60 -rdc=true -lcudadevrt -lcufft --use_fast_math -O4 -std=c++11 -lgomp\n",
      "nvcc -o Vina_Grid_Force_Field.o -c Vina_Grid_Force_Field.cu -arch=sm_60 -rdc=true -lcudadevrt -lcufft --use_fast_math -O4 -std=c++11 -lgomp\n",
      "\u001b[01m\u001b[KVina_Grid_Force_Field.cu:\u001b[m\u001b[K In member function ‘\u001b[01m\u001b[Kvoid VINA_GRID_FORCE_FIELD::GRID::Cuda_Texture_Initial(VINA_GRID_FORCE_FIELD*)\u001b[m\u001b[K’:\n",
      "\u001b[01m\u001b[KVina_Grid_Force_Field.cu:197:137:\u001b[m\u001b[K \u001b[01;35m\u001b[Kwarning: \u001b[m\u001b[Kformat ‘\u001b[01m\u001b[K%d\u001b[m\u001b[K’ expects argument of type ‘\u001b[01m\u001b[Kint\u001b[m\u001b[K’, but argument 2 has type ‘\u001b[01m\u001b[Klong unsigned int\u001b[m\u001b[K’ [\u001b[01;35m\u001b[K-Wformat=\u001b[m\u001b[K]\n",
      "\u001b[m\u001b[Ktf(\"size of protein mesh %d\\n\",\u001b[32m\u001b[K sizeof(float4) * vina_grid_force_field->grid_numbers * vina_grid_force_field->type_numbers);\n",
      "                                     \u001b[32m\u001b[K~~~~~~~~~~~~~~~~~~~~~~~~~~~~~~~~~~~~~~~~~~~~~~~~~~~~~~~~~~~~~~~~~~~~~~~~~~~~~~~~~~~~~~~~~~~~~~\u001b[m\u001b[K      \u001b[01;35m\u001b[K^\u001b[m\u001b[K\n",
      "nvcc -o DSDP  main_SingleRun.o common.o Copy_pdbqt_Format.o DSDP_Sort.o DSDP_Task.o Kernel.o Neighbor_Grid.o Partial_Rigid_Small_Molecule.o Rigid_Protein.o Vina_Grid_Force_Field.o -arch=sm_60 -rdc=true -lcudadevrt -lcufft --use_fast_math -O4 -std=c++11 -lgomp\n"
     ]
    }
   ],
   "source": [
    "#compiling redocking\n",
    "! cd ./dsdp/redocking/;make"
   ]
  },
  {
   "cell_type": "code",
   "execution_count": 9,
   "id": "7b0d5ab9-5ec3-450e-9fac-c71d554daedd",
   "metadata": {},
   "outputs": [
    {
     "name": "stdout",
     "output_type": "stream",
     "text": [
      "nvcc -o main_SingleRun_SitePointStart.o -c main_SingleRun_SitePointStart.cu -arch=sm_60 -rdc=true -lcudadevrt -lcufft --use_fast_math -O4 -std=c++11 -lgomp\n",
      "nvcc -o common.o -c common.cu -arch=sm_60 -rdc=true -lcudadevrt -lcufft --use_fast_math -O4 -std=c++11 -lgomp\n",
      "common.cu(204): warning: missing return statement at end of non-void function \"Vina_Covalent_Radius\"\n",
      "\n",
      "common.cu(204): warning: missing return statement at end of non-void function \"Vina_Covalent_Radius\"\n",
      "\n",
      "nvcc -o CLUSTER.o -c CLUSTER.cpp -arch=sm_60 -rdc=true -lcudadevrt -lcufft --use_fast_math -O4 -std=c++11 -lgomp\n",
      "nvcc -o Copy_pdbqt_Format.o -c Copy_pdbqt_Format.cu -arch=sm_60 -rdc=true -lcudadevrt -lcufft --use_fast_math -O4 -std=c++11 -lgomp\n",
      "nvcc -o DSDP_Sort.o -c DSDP_Sort.cu -arch=sm_60 -rdc=true -lcudadevrt -lcufft --use_fast_math -O4 -std=c++11 -lgomp\n",
      "nvcc -o DSDP_Task.o -c DSDP_Task.cu -arch=sm_60 -rdc=true -lcudadevrt -lcufft --use_fast_math -O4 -std=c++11 -lgomp\n",
      "nvcc -o Kernel.o -c Kernel.cu -arch=sm_60 -rdc=true -lcudadevrt -lcufft --use_fast_math -O4 -std=c++11 -lgomp\n",
      "Kernel.cu(962): warning: variable \"dd\" was declared but never referenced\n",
      "\n",
      "Kernel.cu(962): warning: variable \"dd_\" was declared but never referenced\n",
      "\n",
      "nvcc -o Neighbor_Grid.o -c Neighbor_Grid.cu -arch=sm_60 -rdc=true -lcudadevrt -lcufft --use_fast_math -O4 -std=c++11 -lgomp\n",
      "Neighbor_Grid.cu(35): warning: invalid narrowing conversion from \"float\" to \"int\"\n",
      "\n",
      "Neighbor_Grid.cu(35): warning: invalid narrowing conversion from \"float\" to \"int\"\n",
      "\n",
      "Neighbor_Grid.cu(35): warning: invalid narrowing conversion from \"float\" to \"int\"\n",
      "\n",
      "Neighbor_Grid.cu(35): warning: invalid narrowing conversion from \"float\" to \"int\"\n",
      "\n",
      "Neighbor_Grid.cu(35): warning: invalid narrowing conversion from \"float\" to \"int\"\n",
      "\n",
      "Neighbor_Grid.cu(35): warning: invalid narrowing conversion from \"float\" to \"int\"\n",
      "\n",
      "\u001b[01m\u001b[KNeighbor_Grid.cu:\u001b[m\u001b[K In member function ‘\u001b[01m\u001b[Kvoid NEIGHBOR_GRID::Put_Atom_Into_Grid_Bucket(int, VECTOR*)\u001b[m\u001b[K’:\n",
      "\u001b[01m\u001b[KNeighbor_Grid.cu:35:35:\u001b[m\u001b[K \u001b[01;35m\u001b[Kwarning: \u001b[m\u001b[Knarrowing conversion of ‘\u001b[01m\u001b[Ktempcrd.VECTOR::x\u001b[m\u001b[K’ from ‘\u001b[01m\u001b[Kfloat\u001b[m\u001b[K’ to ‘\u001b[01m\u001b[Kint\u001b[m\u001b[K’ inside { } [\u001b[01;35m\u001b[K-Wnarrowing\u001b[m\u001b[K]\n",
      "   INT_VECTOR temp_serial =\u001b[01;35m\u001b[K { tempcr\u001b[m\u001b[Kd.x,tempcrd.y,tempcrd.z };\n",
      "                           \u001b[01;35m\u001b[K~~~~~~~~^\u001b[m\u001b[K\n",
      "\u001b[01m\u001b[KNeighbor_Grid.cu:35:46:\u001b[m\u001b[K \u001b[01;35m\u001b[Kwarning: \u001b[m\u001b[Knarrowing conversion of ‘\u001b[01m\u001b[Ktempcrd.VECTOR::y\u001b[m\u001b[K’ from ‘\u001b[01m\u001b[Kfloat\u001b[m\u001b[K’ to ‘\u001b[01m\u001b[Kint\u001b[m\u001b[K’ inside { } [\u001b[01;35m\u001b[K-Wnarrowing\u001b[m\u001b[K]\n",
      "   INT_VECTOR temp_serial = { tempcrd.\u001b[01;35m\u001b[Kx,tempcrd\u001b[m\u001b[K.y,tempcrd.z };\n",
      "                                      \u001b[01;35m\u001b[K~~~~~~~~^\u001b[m\u001b[K\n",
      "\u001b[01m\u001b[KNeighbor_Grid.cu:35:57:\u001b[m\u001b[K \u001b[01;35m\u001b[Kwarning: \u001b[m\u001b[Knarrowing conversion of ‘\u001b[01m\u001b[Ktempcrd.VECTOR::z\u001b[m\u001b[K’ from ‘\u001b[01m\u001b[Kfloat\u001b[m\u001b[K’ to ‘\u001b[01m\u001b[Kint\u001b[m\u001b[K’ inside { } [\u001b[01;35m\u001b[K-Wnarrowing\u001b[m\u001b[K]\n",
      "   INT_VECTOR temp_serial = { tempcrd.x,tempcrd.y\u001b[01;35m\u001b[K,tempcrd.\u001b[m\u001b[Kz };\n",
      "                                                 \u001b[01;35m\u001b[K~~~~~~~~^\u001b[m\u001b[K\n",
      "nvcc -o Partial_Rigid_Small_Molecule.o -c Partial_Rigid_Small_Molecule.cu -arch=sm_60 -rdc=true -lcudadevrt -lcufft --use_fast_math -O4 -std=c++11 -lgomp\n",
      "Partial_Rigid_Small_Molecule.cu(49): warning: result of call is not used\n",
      "\n",
      "Partial_Rigid_Small_Molecule.cu(81): warning: result of call is not used\n",
      "\n",
      "Partial_Rigid_Small_Molecule.cu(49): warning: result of call is not used\n",
      "\n",
      "Partial_Rigid_Small_Molecule.cu(81): warning: result of call is not used\n",
      "\n",
      "\u001b[01m\u001b[KPartial_Rigid_Small_Molecule.cu:\u001b[m\u001b[K In member function ‘\u001b[01m\u001b[Kvoid PARTIAL_RIGID_SMALL_MOLECULE::Initial_From_PDBQT(const char*)\u001b[m\u001b[K’:\n",
      "\u001b[01m\u001b[KPartial_Rigid_Small_Molecule.cu:49:6:\u001b[m\u001b[K \u001b[01;35m\u001b[Kwarning: \u001b[m\u001b[Kignoring return value of ‘\u001b[01m\u001b[Kchar* fgets(char*, int, FILE*)\u001b[m\u001b[K’, declared with attribute warn_unused_result [\u001b[01;35m\u001b[K-Wunused-result\u001b[m\u001b[K]\n",
      " \u001b[01;35m\u001b[K    fgets(str_line, 256,\u001b[m\u001b[K in);\n",
      "     \u001b[01;35m\u001b[K~^~~~~~~~~~~~~~~~~~~\u001b[m\u001b[K\n",
      "\u001b[01m\u001b[KPartial_Rigid_Small_Molecule.cu:81:6:\u001b[m\u001b[K \u001b[01;35m\u001b[Kwarning: \u001b[m\u001b[Kignoring return value of ‘\u001b[01m\u001b[Kchar* fgets(char*, int, FILE*)\u001b[m\u001b[K’, declared with attribute warn_unused_result [\u001b[01;35m\u001b[K-Wunused-result\u001b[m\u001b[K]\n",
      " \u001b[01;35m\u001b[K    fgets(str_line, 256,\u001b[m\u001b[K in);\n",
      "     \u001b[01;35m\u001b[K~^~~~~~~~~~~~~~~~~~~\u001b[m\u001b[K\n",
      "nvcc -o Rigid_Protein.o -c Rigid_Protein.cu -arch=sm_60 -rdc=true -lcudadevrt -lcufft --use_fast_math -O4 -std=c++11 -lgomp\n",
      "nvcc -o Vina_Grid_Force_Field.o -c Vina_Grid_Force_Field.cu -arch=sm_60 -rdc=true -lcudadevrt -lcufft --use_fast_math -O4 -std=c++11 -lgomp\n",
      "\u001b[01m\u001b[KVina_Grid_Force_Field.cu:\u001b[m\u001b[K In member function ‘\u001b[01m\u001b[Kvoid VINA_GRID_FORCE_FIELD::GRID::Cuda_Texture_Initial(VINA_GRID_FORCE_FIELD*)\u001b[m\u001b[K’:\n",
      "\u001b[01m\u001b[KVina_Grid_Force_Field.cu:197:137:\u001b[m\u001b[K \u001b[01;35m\u001b[Kwarning: \u001b[m\u001b[Kformat ‘\u001b[01m\u001b[K%d\u001b[m\u001b[K’ expects argument of type ‘\u001b[01m\u001b[Kint\u001b[m\u001b[K’, but argument 2 has type ‘\u001b[01m\u001b[Klong unsigned int\u001b[m\u001b[K’ [\u001b[01;35m\u001b[K-Wformat=\u001b[m\u001b[K]\n",
      "\u001b[m\u001b[Ktf(\"size of protein mesh %d\\n\",\u001b[32m\u001b[K sizeof(float4) * vina_grid_force_field->grid_numbers * vina_grid_force_field->type_numbers);\n",
      "                                     \u001b[32m\u001b[K~~~~~~~~~~~~~~~~~~~~~~~~~~~~~~~~~~~~~~~~~~~~~~~~~~~~~~~~~~~~~~~~~~~~~~~~~~~~~~~~~~~~~~~~~~~~~~\u001b[m\u001b[K      \u001b[01;35m\u001b[K^\u001b[m\u001b[K\n",
      "nvcc -o Site_Information.o -c Site_Information.cu -arch=sm_60 -rdc=true -lcudadevrt -lcufft --use_fast_math -O4 -std=c++11 -lgomp\n",
      "Site_Information.cu(32): warning: result of call is not used\n",
      "\n",
      "Site_Information.cu(32): warning: result of call is not used\n",
      "\n",
      "\u001b[01m\u001b[KSite_Information.cu:\u001b[m\u001b[K In member function ‘\u001b[01m\u001b[Kvoid SITE_INFORMATION::Initial(const char*, int)\u001b[m\u001b[K’:\n",
      "\u001b[01m\u001b[KSite_Information.cu:32:6:\u001b[m\u001b[K \u001b[01;35m\u001b[Kwarning: \u001b[m\u001b[Kignoring return value of ‘\u001b[01m\u001b[Ksize_t fread(void*, size_t, size_t, FILE*)\u001b[m\u001b[K’, declared with attribute warn_unused_result [\u001b[01;35m\u001b[K-Wunused-result\u001b[m\u001b[K]\n",
      " \u001b[01;35m\u001b[K    fread(&temp.w, sizeof(float), 1, mesh_i\u001b[m\u001b[Kn);\n",
      "     \u001b[01;35m\u001b[K~^~~~~~~~~~~~~~~~~~~~~~~~~~~~~~~~~~~~~~\u001b[m\u001b[K\n",
      "nvcc -o DSDP  main_SingleRun_SitePointStart.o common.o CLUSTER.o Copy_pdbqt_Format.o DSDP_Sort.o DSDP_Task.o Kernel.o Neighbor_Grid.o Partial_Rigid_Small_Molecule.o Rigid_Protein.o Vina_Grid_Force_Field.o Site_Information.o -arch=sm_60 -rdc=true -lcudadevrt -lcufft --use_fast_math -O4 -std=c++11 -lgomp\n"
     ]
    }
   ],
   "source": [
    "#compiling blind docking\n",
    "! cd ./dsdp/blind_docking/;make"
   ]
  },
  {
   "cell_type": "code",
   "execution_count": 10,
   "id": "9bd7d794-1b92-4ef2-804e-92317275a313",
   "metadata": {},
   "outputs": [
    {
     "name": "stdout",
     "output_type": "stream",
     "text": [
      "size of protein mesh 288000000\n",
      "./1a2b/1a2b_ligand.pdbqt\n",
      "Total time 0.847306 s\n",
      "size of protein mesh 288000000\n",
      "./1a80/1a80_ligand.pdbqt\n",
      "Total time 1.149655 s\n",
      "size of protein mesh 288000000\n",
      "./1a8p/1a8p_ligand.pdbqt\n",
      "Total time 1.103079 s\n",
      "size of protein mesh 288000000\n",
      "./1a8r/1a8r_ligand.pdbqt\n",
      "Total time 0.892353 s\n",
      "size of protein mesh 288000000\n",
      "./1aa6/1aa6_ligand.pdbqt\n",
      "Total time 1.252967 s\n"
     ]
    }
   ],
   "source": [
    "#run redocking\n",
    "!cd ./dsdp/examples/redocking/;bash run.sh"
   ]
  },
  {
   "cell_type": "code",
   "execution_count": 11,
   "id": "a7b4b4b5-adc4-457e-938f-eea355384932",
   "metadata": {},
   "outputs": [
    {
     "name": "stdout",
     "output_type": "stream",
     "text": [
      "size of protein mesh 288000000\n",
      "./1a2b/1a2b.npy\n",
      "Total time 0.881479 s\n",
      "size of protein mesh 288000000\n",
      "./1a80/1a80.npy\n",
      "Total time 1.315422 s\n",
      "size of protein mesh 288000000\n",
      "./1a8p/1a8p.npy\n",
      "Total time 1.150473 s\n",
      "size of protein mesh 288000000\n",
      "./1a8r/1a8r.npy\n",
      "size of protein mesh 288000000\n",
      "./1a8r/1a8r.npy\n",
      "Total time 1.825652 s\n",
      "size of protein mesh 288000000\n",
      "./1aa6/1aa6.npy\n",
      "size of protein mesh 288000000\n",
      "./1aa6/1aa6.npy\n",
      "size of protein mesh 288000000\n",
      "./1aa6/1aa6.npy\n",
      "Total time 3.482299 s\n"
     ]
    }
   ],
   "source": [
    "#run blind docking\n",
    "!cd ./dsdp/examples/blind_docking/;bash run.sh"
   ]
  },
  {
   "cell_type": "code",
   "execution_count": null,
   "id": "a61f0270-2e06-45d0-b583-e3cf20202d08",
   "metadata": {},
   "outputs": [
    {
     "name": "stdout",
     "output_type": "stream",
     "text": [
      "size of protein mesh 288000000\n",
      "./ligand/actives_1.pdbqt\n",
      "Total time 0.697590 s\n",
      "size of protein mesh 288000000\n",
      "./ligand/actives_2.pdbqt\n",
      "Total time 0.764531 s\n",
      "size of protein mesh 288000000\n",
      "./ligand/actives_3.pdbqt\n",
      "Total time 0.889014 s\n",
      "size of protein mesh 288000000\n",
      "./ligand/actives_4.pdbqt\n",
      "Total time 0.841030 s\n",
      "size of protein mesh 288000000\n",
      "./ligand/actives_5.pdbqt\n",
      "Total time 0.745492 s\n",
      "size of protein mesh 288000000\n",
      "./ligand/decoys_10.pdbqt\n",
      "Total time 0.712056 s\n",
      "size of protein mesh 288000000\n",
      "./ligand/decoys_11.pdbqt\n",
      "Total time 0.677666 s\n",
      "size of protein mesh 288000000\n",
      "./ligand/decoys_12.pdbqt\n",
      "Total time 0.676840 s\n",
      "size of protein mesh 288000000\n",
      "./ligand/decoys_13.pdbqt\n",
      "Total time 0.713847 s\n",
      "size of protein mesh 288000000\n",
      "./ligand/decoys_14.pdbqt\n",
      "Total time 0.691103 s\n",
      "size of protein mesh 288000000\n",
      "./ligand/decoys_15.pdbqt\n",
      "Total time 0.674174 s\n",
      "size of protein mesh 288000000\n",
      "./ligand/decoys_16.pdbqt\n",
      "Total time 0.697842 s\n",
      "size of protein mesh 288000000\n",
      "./ligand/decoys_17.pdbqt\n",
      "Total time 0.705121 s\n",
      "size of protein mesh 288000000\n",
      "./ligand/decoys_18.pdbqt\n",
      "Total time 0.709177 s\n",
      "size of protein mesh 288000000\n",
      "./ligand/decoys_19.pdbqt\n",
      "Total time 0.668411 s\n",
      "size of protein mesh 288000000\n",
      "./ligand/decoys_1.pdbqt\n",
      "Total time 0.662138 s\n",
      "size of protein mesh 288000000\n",
      "./ligand/decoys_20.pdbqt\n",
      "Total time 0.726660 s\n",
      "size of protein mesh 288000000\n",
      "./ligand/decoys_2.pdbqt\n",
      "Total time 0.700892 s\n",
      "size of protein mesh 288000000\n",
      "./ligand/decoys_3.pdbqt\n",
      "Total time 0.723879 s\n",
      "size of protein mesh 288000000\n",
      "./ligand/decoys_4.pdbqt\n",
      "Total time 0.680026 s\n",
      "size of protein mesh 288000000\n",
      "./ligand/decoys_5.pdbqt\n",
      "Total time 0.697720 s\n",
      "size of protein mesh 288000000\n"
     ]
    }
   ],
   "source": [
    "#run virtual screening\n",
    "!cd ./dsdp/examples/virtual_screening/;bash run.sh"
   ]
  },
  {
   "cell_type": "code",
   "execution_count": 13,
   "id": "d65e5919-90d0-49a7-8538-8be03a889643",
   "metadata": {},
   "outputs": [
    {
     "name": "stdout",
     "output_type": "stream",
     "text": [
      "RMSD of 1a2b is : 1.689675745520424\n",
      "\n",
      "RMSD of 1a80 is : 5.99250026074259\n",
      "\n",
      "RMSD of 1a8p is : 9.792707950306697\n",
      "\n",
      "RMSD of 1a8r is : 1.839397506658091\n",
      "\n",
      "RMSD of 1aa6 is : 17.90340172775922\n"
     ]
    }
   ],
   "source": [
    "#estimate RMSD\n",
    "import os\n",
    "import numpy as np\n",
    "import math\n",
    "from math import ceil, sin, cos, sqrt, pi\n",
    "import pandas as pd\n",
    "\n",
    "\n",
    "def crd_from_pdbqt(sdf):\n",
    "    crds = []\n",
    "    with open(sdf, \"r\") as sdfile:\n",
    "        input_info = sdfile.readlines()\n",
    "    \n",
    "    for inline in input_info:\n",
    "        if len(inline) >= 70 and len(inline) <= 100 and (\"H\" not in inline[30:80]):\n",
    "            line_info = inline.strip()\n",
    "            crd_info = np.array([float(line_info[30:38]),float(line_info[38:46]),float(line_info[46:54])])\n",
    "            crds.append(crd_info)\n",
    "        else:\n",
    "            continue    \n",
    "    return np.stack(crds)\n",
    "\n",
    "def calculate_center(ligand):\n",
    "    point_map = ligand\n",
    "    point_center = point_map.mean(axis=0)\n",
    "    return point_center\n",
    "\n",
    "def calculate_distance(ligand,site):\n",
    "    ligand_x = ligand[0]\n",
    "    ligand_y = ligand[1]\n",
    "    ligand_z = ligand[2]\n",
    "    site_x = site[0]\n",
    "    site_y = site[1]\n",
    "    site_z = site[2]\n",
    "    \n",
    "    distance = pow(pow(site_x-ligand_x,2) + pow(site_y-ligand_y,2) + pow(site_z-ligand_z,2),0.5)\n",
    "    return distance\n",
    "\n",
    "dist_dict = {\"RMSD\":{}, \"MAE\":{}, \"Cent_dis\":{}}\n",
    "\n",
    "with open('./dsdp/examples/blind_docking/list.txt') as list_f:\n",
    "    lines=list_f.readlines()\n",
    "\n",
    "for line in lines:\n",
    "    line=line.strip()\n",
    "    ref_file = \"./dsdp/examples/blind_docking/\" + line + '/' + line + '_ligand.pdbqt' \n",
    "    dock_file = \"./dsdp/examples/blind_docking/\" + line + '/' + line + '_out.pdbqt' \n",
    "\n",
    "    ref_crds = crd_from_pdbqt(ref_file)\n",
    "    dock_crds = crd_from_pdbqt(dock_file)\n",
    "    ref_center = calculate_center(ref_crds)\n",
    "    dock_center = calculate_center(dock_crds)\n",
    "    ref_dock_distance = calculate_distance(ref_center,dock_center)  \n",
    "    dist2_matrix = np.power(ref_crds - dock_crds, 2)\n",
    "    rmsd = np.sqrt(3 * dist2_matrix.flatten().mean())\n",
    "    mae = np.sqrt(dist2_matrix.sum(axis=1)).mean()\n",
    "    print(\"RMSD of \" + line + \" is : \" + str(rmsd))\n",
    "\n"
   ]
  },
  {
   "cell_type": "code",
   "execution_count": null,
   "id": "ea9c5eb1-0b77-401a-9f97-4b8d12466487",
   "metadata": {},
   "outputs": [],
   "source": []
  }
 ],
 "metadata": {
  "AIGalleryInfo": {
   "item_id": "0e117a3a-5aa8-4820-837d-205f7b5e82af"
  },
  "flavorInfo": {
   "architecture": "X86_64",
   "category": "GPU"
  },
  "imageInfo": {
   "id": "e1a07296-22a8-4f05-8bc8-e936c8e54202",
   "name": "mindspore1.7.0-cuda10.1-py3.7-ubuntu18.04"
  },
  "kernelspec": {
   "display_name": "python-3.7.10",
   "language": "python",
   "name": "python-3.7.10"
  },
  "language_info": {
   "codemirror_mode": {
    "name": "ipython",
    "version": 3
   },
   "file_extension": ".py",
   "mimetype": "text/x-python",
   "name": "python",
   "nbconvert_exporter": "python",
   "pygments_lexer": "ipython3",
   "version": "3.7.10"
  }
 },
 "nbformat": 4,
 "nbformat_minor": 5
}
